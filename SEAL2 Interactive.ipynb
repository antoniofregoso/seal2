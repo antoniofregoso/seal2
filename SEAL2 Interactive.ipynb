{
 "cells": [
  {
   "cell_type": "code",
   "execution_count": null,
   "id": "8108fb96-55f2-4924-b156-e5e1f725176a",
   "metadata": {},
   "outputs": [
    {
     "ename": "SyntaxError",
     "evalue": "invalid syntax. Perhaps you forgot a comma? (3332126623.py, line 50)",
     "output_type": "error",
     "traceback": [
      "\u001b[0;36m  Cell \u001b[0;32mIn[6], line 50\u001b[0;36m\u001b[0m\n\u001b[0;31m    dt=IntSlider(min=0, max=365, step=5, value=200) #t steps\u001b[0m\n\u001b[0m       ^\u001b[0m\n\u001b[0;31mSyntaxError\u001b[0m\u001b[0;31m:\u001b[0m invalid syntax. Perhaps you forgot a comma?\n"
     ]
    }
   ],
   "source": [
    "import numpy as np\n",
    "from scipy.integrate import odeint\n",
    "import matplotlib.pyplot as plt\n",
    "from ipywidgets import interact, FloatSlider, IntSlider\n",
    "\n",
    "# SEIRD model equations\n",
    "def SEIR_model(y, t, beta, sigma, gamma, xi, mu):\n",
    "    S, E, I, R, D = y\n",
    "    dSdt = -beta * S * I + xi * R\n",
    "    dEdt = beta * S * I - sigma * E\n",
    "    dIdt = sigma * E - gamma * I - mu * I\n",
    "    dRdt = gamma * I - xi * R\n",
    "    dDdt = mu*I\n",
    "    return [dSdt, dEdt, dIdt, dRdt, dDdt]\n",
    "\n",
    "\n",
    "def plot_seird(beta, sigma, gamma, xi, mu, tmax, dt, e0):\n",
    "    # Initial conditions\n",
    "    S0 = 1 - e0\n",
    "    E0 = e0  \n",
    "    I0 = 0.00  \n",
    "    R0 = 0.00  \n",
    "    D0 = 0.00\n",
    "    y0 = [S0, E0, I0, R0, D0]\n",
    "\n",
    "    t = np.linspace(0, tmax, dt)  \n",
    "    solution = odeint(SEIR_model, y0, t, args=(beta, sigma, gamma, xi, mu))\n",
    "    S, E, I, R, D = solution.T\n",
    "    plt.figure(figsize=(10, 6))\n",
    "    plt.plot(t, S, label='Susceptible')\n",
    "    plt.plot(t, E, label='Exposed')\n",
    "    plt.plot(t, I, label='Active')\n",
    "    plt.plot(t, R, label='Latent')\n",
    "    plt.plot(t, D, label='Lost')\n",
    "    plt.xlabel('Time (days)')\n",
    "    plt.ylabel('Proportion of Population')\n",
    "    plt.title('SEAL2 Model Simulation')\n",
    "    plt.legend()\n",
    "    plt.grid(True)\n",
    "    plt.show()\n",
    "\n",
    "\n",
    "interact(plot_seird,\n",
    "        beta=FloatSlider(min=0, max=1, step=0.01, value=0.3), # Tasa de transmisión.\n",
    "        sigma=FloatSlider(min=0, max=1, step=0.01, value=0.1), # Tasa de progresión (de expuestos a infectados). \n",
    "        gamma=FloatSlider(min=0, max=1, step=0.01, value=0.05), #Tasa de recuperación.\n",
    "        xi=FloatSlider(min=0, max=1, step=0.01, value=0.0), # Tasa de pérdida de inmunidad.\n",
    "        mu=FloatSlider(min=0, max=1, step=0.01, value=0.0),  # Tasa de mortalidad\n",
    "        tmax=IntSlider(min=0, max=365, step=5, value=200), # Max time\n",
    "        dt=IntSlider(min=0, max=365, step=5, value=200), #t steps\n",
    "        e0=FloatSlider(min=0, max=1, step=0.01, value=0.01),  # Taza inicial de expuestos\n",
    ")\n",
    "\n",
    "\n"
   ]
  },
  {
   "cell_type": "code",
   "execution_count": null,
   "id": "2fe84937-9e8a-4020-a1b5-9c5afdf1d0bd",
   "metadata": {},
   "outputs": [],
   "source": []
  }
 ],
 "metadata": {
  "kernelspec": {
   "display_name": ".venv",
   "language": "python",
   "name": "python3"
  },
  "language_info": {
   "codemirror_mode": {
    "name": "ipython",
    "version": 3
   },
   "file_extension": ".py",
   "mimetype": "text/x-python",
   "name": "python",
   "nbconvert_exporter": "python",
   "pygments_lexer": "ipython3",
   "version": "3.12.3"
  }
 },
 "nbformat": 4,
 "nbformat_minor": 5
}
